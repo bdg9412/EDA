{
 "cells": [
  {
   "cell_type": "markdown",
   "id": "6f2b8b9b",
   "metadata": {},
   "source": [
    "# stock data를 활용한 종가 예측"
   ]
  },
  {
   "cell_type": "code",
   "execution_count": 1,
   "id": "d5673586",
   "metadata": {},
   "outputs": [],
   "source": [
    "import pandas as pd\n",
    "import numpy as np\n",
    "import matplotlib.pyplot as plt\n",
    "import seaborn as sns\n",
    "import warnings\n",
    "warnings.filterwarnings('ignore')\n",
    "%matplotlib inline"
   ]
  },
  {
   "cell_type": "markdown",
   "id": "b68a66ae",
   "metadata": {},
   "source": [
    "### 데이터 로드 및 종목 코드 기반 주식 데이터 로드"
   ]
  },
  {
   "cell_type": "code",
   "execution_count": 2,
   "id": "9c0ed53c",
   "metadata": {},
   "outputs": [],
   "source": [
    "stock_list = pd.read_csv('dongkeun_ICT/stock_final/Stock_List.csv')"
   ]
  },
  {
   "cell_type": "code",
   "execution_count": 3,
   "id": "2e8a4f29",
   "metadata": {},
   "outputs": [],
   "source": [
    "import FinanceDataReader as fdr # 가격 확인을 위하여 라이브러리 로드"
   ]
  },
  {
   "cell_type": "code",
   "execution_count": 4,
   "id": "8a012b79",
   "metadata": {},
   "outputs": [],
   "source": [
    "#  종목코드 형태 균일화\n",
    "stock_list['종목코드'] = stock_list['종목코드'].apply(lambda x :str(x).zfill(6)) # 파이썬 문자열에서 6개를 0으로 채우는 함수, 4자리 글자는 2개의 0이 추가된다.\n",
    "# stock_list.head()"
   ]
  },
  {
   "cell_type": "code",
   "execution_count": 5,
   "id": "b9dd4efc",
   "metadata": {},
   "outputs": [
    {
     "name": "stdout",
     "output_type": "stream",
     "text": [
      "376\n"
     ]
    }
   ],
   "source": [
    "print(len(stock_list))"
   ]
  },
  {
   "cell_type": "code",
   "execution_count": 7,
   "id": "32a6dfee",
   "metadata": {},
   "outputs": [
    {
     "name": "stdout",
     "output_type": "stream",
     "text": [
      "<class 'pandas.core.frame.DataFrame'>\n",
      "RangeIndex: 376 entries, 0 to 375\n",
      "Data columns (total 3 columns):\n",
      " #   Column  Non-Null Count  Dtype \n",
      "---  ------  --------------  ----- \n",
      " 0   종목명     376 non-null    object\n",
      " 1   종목코드    376 non-null    object\n",
      " 2   상장시장    376 non-null    object\n",
      "dtypes: object(3)\n",
      "memory usage: 8.9+ KB\n"
     ]
    }
   ],
   "source": [
    "stock_list.info()"
   ]
  },
  {
   "cell_type": "code",
   "execution_count": 8,
   "id": "2258a69c",
   "metadata": {},
   "outputs": [
    {
     "name": "stdout",
     "output_type": "stream",
     "text": [
      "WEEKDAY of \"start_date\": 0\n",
      "NUM of WEEKS to \"end_date\" : 35\n",
      "HOW MANY \"Business_days\" : (175, 1)\n"
     ]
    },
    {
     "data": {
      "text/html": [
       "<div>\n",
       "<style scoped>\n",
       "    .dataframe tbody tr th:only-of-type {\n",
       "        vertical-align: middle;\n",
       "    }\n",
       "\n",
       "    .dataframe tbody tr th {\n",
       "        vertical-align: top;\n",
       "    }\n",
       "\n",
       "    .dataframe thead th {\n",
       "        text-align: right;\n",
       "    }\n",
       "</style>\n",
       "<table border=\"1\" class=\"dataframe\">\n",
       "  <thead>\n",
       "    <tr style=\"text-align: right;\">\n",
       "      <th></th>\n",
       "      <th>Date</th>\n",
       "    </tr>\n",
       "  </thead>\n",
       "  <tbody>\n",
       "    <tr>\n",
       "      <th>0</th>\n",
       "      <td>2021-01-04</td>\n",
       "    </tr>\n",
       "    <tr>\n",
       "      <th>1</th>\n",
       "      <td>2021-01-05</td>\n",
       "    </tr>\n",
       "    <tr>\n",
       "      <th>2</th>\n",
       "      <td>2021-01-06</td>\n",
       "    </tr>\n",
       "    <tr>\n",
       "      <th>3</th>\n",
       "      <td>2021-01-07</td>\n",
       "    </tr>\n",
       "    <tr>\n",
       "      <th>4</th>\n",
       "      <td>2021-01-08</td>\n",
       "    </tr>\n",
       "  </tbody>\n",
       "</table>\n",
       "</div>"
      ],
      "text/plain": [
       "        Date\n",
       "0 2021-01-04\n",
       "1 2021-01-05\n",
       "2 2021-01-06\n",
       "3 2021-01-07\n",
       "4 2021-01-08"
      ]
     },
     "metadata": {},
     "output_type": "display_data"
    }
   ],
   "source": [
    "# 학습 대상 날짜 설정 및 기타 정보 파악\n",
    "start_date = '20210104'\n",
    "end_date = '20210903'\n",
    "\n",
    "start_weekday = pd.to_datetime(start_date).weekday()\n",
    "max_weeknum = pd.to_datetime(end_date).strftime(\"%V\")\n",
    "Business_days = pd.DataFrame(pd.date_range(start_date,end_date,freq=\"B\"),columns = ['Date'])\n",
    "\n",
    "print(f'WEEKDAY of \"start_date\": {start_weekday}')\n",
    "print(f'NUM of WEEKS to \"end_date\" : {max_weeknum}')\n",
    "print(f'HOW MANY \"Business_days\" : {Business_days.shape}', )\n",
    "display(Business_days.head())"
   ]
  },
  {
   "cell_type": "code",
   "execution_count": 9,
   "id": "2029bd60",
   "metadata": {},
   "outputs": [
    {
     "data": {
      "text/html": [
       "<div>\n",
       "<style scoped>\n",
       "    .dataframe tbody tr th:only-of-type {\n",
       "        vertical-align: middle;\n",
       "    }\n",
       "\n",
       "    .dataframe tbody tr th {\n",
       "        vertical-align: top;\n",
       "    }\n",
       "\n",
       "    .dataframe thead th {\n",
       "        text-align: right;\n",
       "    }\n",
       "</style>\n",
       "<table border=\"1\" class=\"dataframe\">\n",
       "  <thead>\n",
       "    <tr style=\"text-align: right;\">\n",
       "      <th></th>\n",
       "      <th>Date</th>\n",
       "      <th>Open</th>\n",
       "      <th>High</th>\n",
       "      <th>Low</th>\n",
       "      <th>Close</th>\n",
       "      <th>Volume</th>\n",
       "      <th>Change</th>\n",
       "    </tr>\n",
       "  </thead>\n",
       "  <tbody>\n",
       "    <tr>\n",
       "      <th>164</th>\n",
       "      <td>2021-08-30</td>\n",
       "      <td>75400</td>\n",
       "      <td>75500</td>\n",
       "      <td>74200</td>\n",
       "      <td>74600</td>\n",
       "      <td>12686999</td>\n",
       "      <td>0.004038</td>\n",
       "    </tr>\n",
       "    <tr>\n",
       "      <th>165</th>\n",
       "      <td>2021-08-31</td>\n",
       "      <td>74900</td>\n",
       "      <td>76700</td>\n",
       "      <td>74300</td>\n",
       "      <td>76700</td>\n",
       "      <td>24630370</td>\n",
       "      <td>0.028150</td>\n",
       "    </tr>\n",
       "    <tr>\n",
       "      <th>166</th>\n",
       "      <td>2021-09-01</td>\n",
       "      <td>76700</td>\n",
       "      <td>77100</td>\n",
       "      <td>75900</td>\n",
       "      <td>76800</td>\n",
       "      <td>16114775</td>\n",
       "      <td>0.001304</td>\n",
       "    </tr>\n",
       "    <tr>\n",
       "      <th>167</th>\n",
       "      <td>2021-09-02</td>\n",
       "      <td>76800</td>\n",
       "      <td>76800</td>\n",
       "      <td>75700</td>\n",
       "      <td>76000</td>\n",
       "      <td>15347486</td>\n",
       "      <td>-0.010417</td>\n",
       "    </tr>\n",
       "    <tr>\n",
       "      <th>168</th>\n",
       "      <td>2021-09-03</td>\n",
       "      <td>76400</td>\n",
       "      <td>76700</td>\n",
       "      <td>76000</td>\n",
       "      <td>76600</td>\n",
       "      <td>12096419</td>\n",
       "      <td>0.007895</td>\n",
       "    </tr>\n",
       "  </tbody>\n",
       "</table>\n",
       "</div>"
      ],
      "text/plain": [
       "          Date   Open   High    Low  Close    Volume    Change\n",
       "164 2021-08-30  75400  75500  74200  74600  12686999  0.004038\n",
       "165 2021-08-31  74900  76700  74300  76700  24630370  0.028150\n",
       "166 2021-09-01  76700  77100  75900  76800  16114775  0.001304\n",
       "167 2021-09-02  76800  76800  75700  76000  15347486 -0.010417\n",
       "168 2021-09-03  76400  76700  76000  76600  12096419  0.007895"
      ]
     },
     "execution_count": 9,
     "metadata": {},
     "output_type": "execute_result"
    }
   ],
   "source": [
    "# 지정한 날짜에 해당하는 주식 데이터를 종목코드와 라이브러리를 사용하여 로드\n",
    "test_code = stock_list.loc[0,'종목코드']\n",
    "test = fdr.DataReader(test_code,start = start_date, end = end_date).reset_index()\n",
    "test.tail()"
   ]
  },
  {
   "cell_type": "markdown",
   "id": "99e5df67",
   "metadata": {},
   "source": [
    "### data scaling"
   ]
  },
  {
   "cell_type": "code",
   "execution_count": 10,
   "id": "d9ef4154",
   "metadata": {},
   "outputs": [],
   "source": [
    "from sklearn.preprocessing import MinMaxScaler\n",
    "scaler = MinMaxScaler()\n",
    "scale_cols = ['Open','High','Low','Close','Volume','Change']\n",
    "sc = scaler.fit(test[scale_cols])\n",
    "df_scaled = sc.transform(test[scale_cols])\n",
    "df_scaled = pd.DataFrame(df_scaled)\n",
    "df_scaled.columns = scale_cols"
   ]
  },
  {
   "cell_type": "code",
   "execution_count": 11,
   "id": "11aaf251",
   "metadata": {},
   "outputs": [],
   "source": [
    "from sklearn.preprocessing import MinMaxScaler\n",
    "scaler2 = MinMaxScaler()\n",
    "scale_cols2 = ['Close']\n",
    "sc2 = scaler2.fit(test[scale_cols2])\n",
    "df_scaled_2 = sc2.transform(test[scale_cols2])\n",
    "df_scaled_2 = pd.DataFrame(df_scaled_2)\n",
    "df_scaled_2.columns = scale_cols2"
   ]
  },
  {
   "cell_type": "code",
   "execution_count": 12,
   "id": "1fb8582a",
   "metadata": {},
   "outputs": [],
   "source": [
    "df_scaled['Date']=test['Date']\n",
    "df_scaled['Close'] = df_scaled_2['Close']"
   ]
  },
  {
   "cell_type": "markdown",
   "id": "1740fec8",
   "metadata": {},
   "source": [
    "### 상관관계 분석"
   ]
  },
  {
   "cell_type": "code",
   "execution_count": 13,
   "id": "03e74fac",
   "metadata": {},
   "outputs": [
    {
     "data": {
      "text/plain": [
       "<AxesSubplot:>"
      ]
     },
     "execution_count": 13,
     "metadata": {},
     "output_type": "execute_result"
    },
    {
     "data": {
      "image/png": "[encoded data removed]",
      "text/plain": [
       "<Figure size 432x288 with 2 Axes>"
      ]
     },
     "metadata": {
      "needs_background": "light"
     },
     "output_type": "display_data"
    }
   ],
   "source": [
    "import seaborn as sns\n",
    "sns.heatmap(df_scaled.corr(),annot=True)"
   ]
  },
  {
   "cell_type": "code",
   "execution_count": 14,
   "id": "279f0a6f",
   "metadata": {},
   "outputs": [
    {
     "name": "stdout",
     "output_type": "stream",
     "text": [
      "169\n"
     ]
    }
   ],
   "source": [
    "print(len(test))"
   ]
  },
  {
   "cell_type": "markdown",
   "id": "0bd7e691",
   "metadata": {},
   "source": [
    "#### 데이터 시각화"
   ]
  },
  {
   "cell_type": "code",
   "execution_count": 15,
   "id": "42cc2d4e",
   "metadata": {},
   "outputs": [],
   "source": [
    "# plt.figure(figsize = (16,9))\n",
    "# sns.lineplot(y=test.loc[:,'Close'], x=test.loc[:,'Date'])\n",
    "# plt.xlabel('time')\n",
    "# plt.ylabel('price')\n",
    "# plt.tight_layout()\n",
    "# plt.show()"
   ]
  },
  {
   "cell_type": "markdown",
   "id": "5aabfdfc",
   "metadata": {},
   "source": [
    "### pivot table 생성"
   ]
  },
  {
   "cell_type": "code",
   "execution_count": 16,
   "id": "bb7a8d9e",
   "metadata": {
    "scrolled": true
   },
   "outputs": [
    {
     "data": {
      "text/html": [
       "<div>\n",
       "<style scoped>\n",
       "    .dataframe tbody tr th:only-of-type {\n",
       "        vertical-align: middle;\n",
       "    }\n",
       "\n",
       "    .dataframe tbody tr th {\n",
       "        vertical-align: top;\n",
       "    }\n",
       "\n",
       "    .dataframe thead tr th {\n",
       "        text-align: left;\n",
       "    }\n",
       "\n",
       "    .dataframe thead tr:last-of-type th {\n",
       "        text-align: right;\n",
       "    }\n",
       "</style>\n",
       "<table border=\"1\" class=\"dataframe\">\n",
       "  <thead>\n",
       "    <tr>\n",
       "      <th></th>\n",
       "      <th colspan=\"5\" halign=\"left\">Close</th>\n",
       "      <th colspan=\"5\" halign=\"left\">High</th>\n",
       "    </tr>\n",
       "    <tr>\n",
       "      <th>weekday</th>\n",
       "      <th>0</th>\n",
       "      <th>1</th>\n",
       "      <th>2</th>\n",
       "      <th>3</th>\n",
       "      <th>4</th>\n",
       "      <th>0</th>\n",
       "      <th>1</th>\n",
       "      <th>2</th>\n",
       "      <th>3</th>\n",
       "      <th>4</th>\n",
       "    </tr>\n",
       "    <tr>\n",
       "      <th>weeknum</th>\n",
       "      <th></th>\n",
       "      <th></th>\n",
       "      <th></th>\n",
       "      <th></th>\n",
       "      <th></th>\n",
       "      <th></th>\n",
       "      <th></th>\n",
       "      <th></th>\n",
       "      <th></th>\n",
       "      <th></th>\n",
       "    </tr>\n",
       "  </thead>\n",
       "  <tbody>\n",
       "    <tr>\n",
       "      <th>01</th>\n",
       "      <td>0.562842</td>\n",
       "      <td>0.612022</td>\n",
       "      <td>0.519126</td>\n",
       "      <td>0.557377</td>\n",
       "      <td>0.879781</td>\n",
       "      <td>0.458515</td>\n",
       "      <td>0.436681</td>\n",
       "      <td>0.462882</td>\n",
       "      <td>0.449782</td>\n",
       "      <td>0.703057</td>\n",
       "    </tr>\n",
       "    <tr>\n",
       "      <th>02</th>\n",
       "      <td>1.000000</td>\n",
       "      <td>0.978142</td>\n",
       "      <td>0.928962</td>\n",
       "      <td>0.928962</td>\n",
       "      <td>0.836066</td>\n",
       "      <td>1.000000</td>\n",
       "      <td>0.764192</td>\n",
       "      <td>0.755459</td>\n",
       "      <td>0.703057</td>\n",
       "      <td>0.781659</td>\n",
       "    </tr>\n",
       "    <tr>\n",
       "      <th>03</th>\n",
       "      <td>0.672131</td>\n",
       "      <td>0.781421</td>\n",
       "      <td>0.792350</td>\n",
       "      <td>0.841530</td>\n",
       "      <td>0.770492</td>\n",
       "      <td>0.585153</td>\n",
       "      <td>0.615721</td>\n",
       "      <td>0.659389</td>\n",
       "      <td>0.641921</td>\n",
       "      <td>0.689956</td>\n",
       "    </tr>\n",
       "    <tr>\n",
       "      <th>04</th>\n",
       "      <td>0.912568</td>\n",
       "      <td>0.765027</td>\n",
       "      <td>0.704918</td>\n",
       "      <td>0.601093</td>\n",
       "      <td>0.508197</td>\n",
       "      <td>0.698690</td>\n",
       "      <td>0.668122</td>\n",
       "      <td>0.602620</td>\n",
       "      <td>0.510917</td>\n",
       "      <td>0.484716</td>\n",
       "    </tr>\n",
       "    <tr>\n",
       "      <th>05</th>\n",
       "      <td>0.562842</td>\n",
       "      <td>0.639344</td>\n",
       "      <td>0.650273</td>\n",
       "      <td>0.535519</td>\n",
       "      <td>0.590164</td>\n",
       "      <td>0.414847</td>\n",
       "      <td>0.545852</td>\n",
       "      <td>0.502183</td>\n",
       "      <td>0.432314</td>\n",
       "      <td>0.441048</td>\n",
       "    </tr>\n",
       "  </tbody>\n",
       "</table>\n",
       "</div>"
      ],
      "text/plain": [
       "            Close                                              High            \\\n",
       "weekday         0         1         2         3         4         0         1   \n",
       "weeknum                                                                         \n",
       "01       0.562842  0.612022  0.519126  0.557377  0.879781  0.458515  0.436681   \n",
       "02       1.000000  0.978142  0.928962  0.928962  0.836066  1.000000  0.764192   \n",
       "03       0.672131  0.781421  0.792350  0.841530  0.770492  0.585153  0.615721   \n",
       "04       0.912568  0.765027  0.704918  0.601093  0.508197  0.698690  0.668122   \n",
       "05       0.562842  0.639344  0.650273  0.535519  0.590164  0.414847  0.545852   \n",
       "\n",
       "                                       \n",
       "weekday         2         3         4  \n",
       "weeknum                                \n",
       "01       0.462882  0.449782  0.703057  \n",
       "02       0.755459  0.703057  0.781659  \n",
       "03       0.659389  0.641921  0.689956  \n",
       "04       0.602620  0.510917  0.484716  \n",
       "05       0.502183  0.432314  0.441048  "
      ]
     },
     "execution_count": 16,
     "metadata": {},
     "output_type": "execute_result"
    }
   ],
   "source": [
    "test2 = pd.merge(Business_days, df_scaled, how='outer')\n",
    "test2['weekday'] = test2.Date.apply(lambda x : x.weekday())\n",
    "test2['weeknum'] = test2.Date.apply(lambda x : x.strftime('%V'))\n",
    "test2.Close = test2.Close.ffill()\n",
    "# test2 = pd.pivot_table(data = test2, values = ['Close','High','Low','Open'], columns = 'weekday', index = 'weeknum')\n",
    "test2 = pd.pivot_table(data = test2, values = ['Close','High'], columns = 'weekday', index = 'weeknum')\n",
    "test2.head()"
   ]
  },
  {
   "cell_type": "code",
   "execution_count": 17,
   "id": "ca3b428c",
   "metadata": {},
   "outputs": [],
   "source": [
    "# test3 = pd.merge(Business_days, test, how='outer')\n",
    "# test3['weekday'] = test3.Date.apply(lambda x : x.weekday())\n",
    "# test3['weeknum'] = test3.Date.apply(lambda x : x.strftime('%V'))\n",
    "# test3.Close = test3.Close.ffill()\n",
    "# test3 = pd.pivot_table(data = test3, values = ['Close','High','Low'], columns = 'weekday', index = 'weeknum')\n",
    "# test3.head()"
   ]
  },
  {
   "cell_type": "code",
   "execution_count": 18,
   "id": "d6023a89",
   "metadata": {},
   "outputs": [
    {
     "data": {
      "text/plain": [
       "       weekday\n",
       "Close  0          0\n",
       "       1          0\n",
       "       2          0\n",
       "       3          0\n",
       "       4          0\n",
       "High   0          2\n",
       "       1          0\n",
       "       2          2\n",
       "       3          1\n",
       "       4          1\n",
       "dtype: int64"
      ]
     },
     "execution_count": 18,
     "metadata": {},
     "output_type": "execute_result"
    }
   ],
   "source": [
    "test2.isna().sum()"
   ]
  },
  {
   "cell_type": "code",
   "execution_count": 19,
   "id": "89a2c77d",
   "metadata": {},
   "outputs": [
    {
     "data": {
      "text/html": [
       "<div>\n",
       "<style scoped>\n",
       "    .dataframe tbody tr th:only-of-type {\n",
       "        vertical-align: middle;\n",
       "    }\n",
       "\n",
       "    .dataframe tbody tr th {\n",
       "        vertical-align: top;\n",
       "    }\n",
       "\n",
       "    .dataframe thead tr th {\n",
       "        text-align: left;\n",
       "    }\n",
       "</style>\n",
       "<table border=\"1\" class=\"dataframe\">\n",
       "  <thead>\n",
       "    <tr>\n",
       "      <th></th>\n",
       "      <th colspan=\"5\" halign=\"left\">Close</th>\n",
       "      <th colspan=\"5\" halign=\"left\">High</th>\n",
       "    </tr>\n",
       "    <tr>\n",
       "      <th>weekday</th>\n",
       "      <th>0</th>\n",
       "      <th>1</th>\n",
       "      <th>2</th>\n",
       "      <th>3</th>\n",
       "      <th>4</th>\n",
       "      <th>0</th>\n",
       "      <th>1</th>\n",
       "      <th>2</th>\n",
       "      <th>3</th>\n",
       "      <th>4</th>\n",
       "    </tr>\n",
       "  </thead>\n",
       "  <tbody>\n",
       "    <tr>\n",
       "      <th>count</th>\n",
       "      <td>35.000000</td>\n",
       "      <td>35.000000</td>\n",
       "      <td>35.000000</td>\n",
       "      <td>35.000000</td>\n",
       "      <td>35.000000</td>\n",
       "      <td>33.000000</td>\n",
       "      <td>35.000000</td>\n",
       "      <td>33.000000</td>\n",
       "      <td>34.000000</td>\n",
       "      <td>34.000000</td>\n",
       "    </tr>\n",
       "    <tr>\n",
       "      <th>mean</th>\n",
       "      <td>0.486339</td>\n",
       "      <td>0.500546</td>\n",
       "      <td>0.480562</td>\n",
       "      <td>0.474005</td>\n",
       "      <td>0.468696</td>\n",
       "      <td>0.380839</td>\n",
       "      <td>0.378915</td>\n",
       "      <td>0.370253</td>\n",
       "      <td>0.357180</td>\n",
       "      <td>0.358335</td>\n",
       "    </tr>\n",
       "    <tr>\n",
       "      <th>std</th>\n",
       "      <td>0.189476</td>\n",
       "      <td>0.174387</td>\n",
       "      <td>0.167238</td>\n",
       "      <td>0.177631</td>\n",
       "      <td>0.184645</td>\n",
       "      <td>0.171785</td>\n",
       "      <td>0.150110</td>\n",
       "      <td>0.146743</td>\n",
       "      <td>0.139696</td>\n",
       "      <td>0.165747</td>\n",
       "    </tr>\n",
       "    <tr>\n",
       "      <th>min</th>\n",
       "      <td>0.032787</td>\n",
       "      <td>0.081967</td>\n",
       "      <td>0.065574</td>\n",
       "      <td>0.021858</td>\n",
       "      <td>0.000000</td>\n",
       "      <td>0.004367</td>\n",
       "      <td>0.052402</td>\n",
       "      <td>0.030568</td>\n",
       "      <td>0.021834</td>\n",
       "      <td>0.000000</td>\n",
       "    </tr>\n",
       "    <tr>\n",
       "      <th>25%</th>\n",
       "      <td>0.387978</td>\n",
       "      <td>0.404372</td>\n",
       "      <td>0.393443</td>\n",
       "      <td>0.387978</td>\n",
       "      <td>0.401639</td>\n",
       "      <td>0.292576</td>\n",
       "      <td>0.301310</td>\n",
       "      <td>0.292576</td>\n",
       "      <td>0.272926</td>\n",
       "      <td>0.280568</td>\n",
       "    </tr>\n",
       "    <tr>\n",
       "      <th>50%</th>\n",
       "      <td>0.502732</td>\n",
       "      <td>0.497268</td>\n",
       "      <td>0.475410</td>\n",
       "      <td>0.491803</td>\n",
       "      <td>0.486339</td>\n",
       "      <td>0.371179</td>\n",
       "      <td>0.379913</td>\n",
       "      <td>0.375546</td>\n",
       "      <td>0.371179</td>\n",
       "      <td>0.358079</td>\n",
       "    </tr>\n",
       "    <tr>\n",
       "      <th>75%</th>\n",
       "      <td>0.568306</td>\n",
       "      <td>0.603825</td>\n",
       "      <td>0.549180</td>\n",
       "      <td>0.554645</td>\n",
       "      <td>0.546448</td>\n",
       "      <td>0.445415</td>\n",
       "      <td>0.451965</td>\n",
       "      <td>0.441048</td>\n",
       "      <td>0.430131</td>\n",
       "      <td>0.418122</td>\n",
       "    </tr>\n",
       "    <tr>\n",
       "      <th>max</th>\n",
       "      <td>1.000000</td>\n",
       "      <td>0.978142</td>\n",
       "      <td>0.928962</td>\n",
       "      <td>0.928962</td>\n",
       "      <td>0.879781</td>\n",
       "      <td>1.000000</td>\n",
       "      <td>0.764192</td>\n",
       "      <td>0.755459</td>\n",
       "      <td>0.703057</td>\n",
       "      <td>0.781659</td>\n",
       "    </tr>\n",
       "  </tbody>\n",
       "</table>\n",
       "</div>"
      ],
      "text/plain": [
       "             Close                                                   High  \\\n",
       "weekday          0          1          2          3          4          0   \n",
       "count    35.000000  35.000000  35.000000  35.000000  35.000000  33.000000   \n",
       "mean      0.486339   0.500546   0.480562   0.474005   0.468696   0.380839   \n",
       "std       0.189476   0.174387   0.167238   0.177631   0.184645   0.171785   \n",
       "min       0.032787   0.081967   0.065574   0.021858   0.000000   0.004367   \n",
       "25%       0.387978   0.404372   0.393443   0.387978   0.401639   0.292576   \n",
       "50%       0.502732   0.497268   0.475410   0.491803   0.486339   0.371179   \n",
       "75%       0.568306   0.603825   0.549180   0.554645   0.546448   0.445415   \n",
       "max       1.000000   0.978142   0.928962   0.928962   0.879781   1.000000   \n",
       "\n",
       "                                                     \n",
       "weekday          1          2          3          4  \n",
       "count    35.000000  33.000000  34.000000  34.000000  \n",
       "mean      0.378915   0.370253   0.357180   0.358335  \n",
       "std       0.150110   0.146743   0.139696   0.165747  \n",
       "min       0.052402   0.030568   0.021834   0.000000  \n",
       "25%       0.301310   0.292576   0.272926   0.280568  \n",
       "50%       0.379913   0.375546   0.371179   0.358079  \n",
       "75%       0.451965   0.441048   0.430131   0.418122  \n",
       "max       0.764192   0.755459   0.703057   0.781659  "
      ]
     },
     "execution_count": 19,
     "metadata": {},
     "output_type": "execute_result"
    }
   ],
   "source": [
    "test2[:].describe()"
   ]
  },
  {
   "cell_type": "code",
   "execution_count": 20,
   "id": "7202d6c2",
   "metadata": {
    "scrolled": true
   },
   "outputs": [],
   "source": [
    "test2[:]['High'][0].fillna(test2[:]['High'][0].median(),inplace=True) # inplace=True로 결측치 치환 반영\n",
    "test2[:]['High'][2].fillna(test2[:]['High'][2].median(),inplace=True)\n",
    "test2[:]['High'][3].fillna(test2[:]['High'][3].median(),inplace=True)\n",
    "test2[:]['High'][4].fillna(test2[:]['High'][4].median(),inplace=True)\n",
    "\n",
    "# test2[:]['Low'][0].fillna(test2[:]['Low'][0].median(),inplace=True) # inplace=True로 결측치 치환 반영\n",
    "# test2[:]['Low'][2].fillna(test2[:]['Low'][2].median(),inplace=True)\n",
    "# test2[:]['Low'][3].fillna(test2[:]['Low'][3].median(),inplace=True)\n",
    "# test2[:]['Low'][4].fillna(test2[:]['Low'][4].median(),inplace=True)\n",
    "\n",
    "# test2[:]['Open'][0].fillna(test2[:]['Open'][0].median(),inplace=True) # inplace=True로 결측치 치환 반영\n",
    "# test2[:]['Open'][2].fillna(test2[:]['Open'][2].median(),inplace=True)\n",
    "# test2[:]['Open'][3].fillna(test2[:]['Open'][3].median(),inplace=True)\n",
    "# test2[:]['Open'][4].fillna(test2[:]['Open'][4].median(),inplace=True)"
   ]
  },
  {
   "cell_type": "code",
   "execution_count": 21,
   "id": "98ecf757",
   "metadata": {},
   "outputs": [
    {
     "data": {
      "text/plain": [
       "       weekday\n",
       "Close  0          0\n",
       "       1          0\n",
       "       2          0\n",
       "       3          0\n",
       "       4          0\n",
       "High   0          0\n",
       "       1          0\n",
       "       2          0\n",
       "       3          0\n",
       "       4          0\n",
       "dtype: int64"
      ]
     },
     "execution_count": 21,
     "metadata": {},
     "output_type": "execute_result"
    }
   ],
   "source": [
    "test2.isna().sum()"
   ]
  },
  {
   "cell_type": "code",
   "execution_count": 22,
   "id": "ed07dc2d",
   "metadata": {},
   "outputs": [],
   "source": [
    "# test2.isna()"
   ]
  },
  {
   "cell_type": "markdown",
   "id": "5e2343e1",
   "metadata": {},
   "source": [
    "### 모델 학습 테스트"
   ]
  },
  {
   "cell_type": "code",
   "execution_count": 23,
   "id": "4b36740f",
   "metadata": {},
   "outputs": [],
   "source": [
    "from sklearn.linear_model import LinearRegression, Ridge, Lasso, ElasticNet\n",
    "from tqdm import tqdm"
   ]
  },
  {
   "cell_type": "code",
   "execution_count": 24,
   "id": "7165ac48",
   "metadata": {
    "scrolled": true
   },
   "outputs": [
    {
     "name": "stdout",
     "output_type": "stream",
     "text": [
      "(33, 10)\n",
      "(33,)\n",
      "----------\n",
      "[0.1600377297721985, 0.14291596086569766, 0.12744181633095178, 0.12065791520975765, 0.10875106947656138]\n",
      "0.004823611831291022\n"
     ]
    }
   ],
   "source": [
    "model = Ridge(alpha=0.1)\n",
    "x = test2.iloc[0:-2].to_numpy() # 0 to -2까지의 데이터로 학습을 하여서\n",
    "\n",
    "y = test2.iloc[1:-1]['Close'].to_numpy() # 1 to -1까지의 데이터르 예측하는 과정을 수행\n",
    "# 우리의 예측 대상은 월,화,수,목,금 5개의 feature이다.\n",
    "y_0 = y[:,0] # 월요일\n",
    "y_1 = y[:,1] # 화요일\n",
    "y_2 = y[:,2] # 수요일\n",
    "y_3 = y[:,3] # 목요일\n",
    "y_4 = y[:,4] # 금요일\n",
    "\n",
    "y_values = [y_0, y_1, y_2, y_3, y_4]\n",
    "\n",
    "print(x.shape)\n",
    "print(y_0.shape)\n",
    "##################################\n",
    "x_public = test2.iloc[-2].to_numpy()\n",
    "\n",
    "predicitions = []\n",
    "for y_value in y_values:\n",
    "    model.fit(x,y_value)\n",
    "    prediction = model.predict(np.expand_dims(x_public,0)) # 차원 추가\n",
    "    predicitions.append(prediction[0])\n",
    "    \n",
    "print('-'*10)\n",
    "print(predicitions)\n",
    "\n",
    "y_public = test2.iloc[-1]['Close'].values\n",
    "\n",
    "from sklearn.metrics import mean_squared_log_error\n",
    "print(mean_squared_log_error(predicitions, y_public))\n",
    "\n",
    "#0.0016648133440614176"
   ]
  },
  {
   "cell_type": "code",
   "execution_count": 25,
   "id": "5388a738",
   "metadata": {},
   "outputs": [
    {
     "data": {
      "text/plain": [
       "[<matplotlib.lines.Line2D at 0x7fef4a56ad68>]"
      ]
     },
     "execution_count": 25,
     "metadata": {},
     "output_type": "execute_result"
    },
    {
     "data": {
      "image/png": "[encoded data removed]",
      "text/plain": [
       "<Figure size 432x288 with 2 Axes>"
      ]
     },
     "metadata": {
      "needs_background": "light"
     },
     "output_type": "display_data"
    }
   ],
   "source": [
    "plt.subplot(1,2,1)\n",
    "plt.plot(sc2.inverse_transform(y_public.reshape(-1,1)))\n",
    "plt.subplot(1,2,2)\n",
    "plt.plot(sc2.inverse_transform(np.array(predicitions).reshape(-1,1)))"
   ]
  },
  {
   "cell_type": "code",
   "execution_count": 26,
   "id": "63931235",
   "metadata": {},
   "outputs": [
    {
     "data": {
      "text/plain": [
       "(33, 5, 2)"
      ]
     },
     "execution_count": 26,
     "metadata": {},
     "output_type": "execute_result"
    }
   ],
   "source": [
    "X_train = x.reshape(x.shape[0],5,2)\n",
    "X_train.shape"
   ]
  },
  {
   "cell_type": "code",
   "execution_count": 27,
   "id": "27a9061e",
   "metadata": {},
   "outputs": [],
   "source": [
    "y_train = np.array(y_values)\n",
    "y_train = y_train.reshape(y_train.shape[1],y_train.shape[0])"
   ]
  },
  {
   "cell_type": "code",
   "execution_count": 28,
   "id": "67581559",
   "metadata": {},
   "outputs": [],
   "source": [
    "X_test = test2.iloc[-2].to_numpy()\n",
    "X_test = X_test.reshape(1,5,2)"
   ]
  },
  {
   "cell_type": "markdown",
   "id": "e61a3391",
   "metadata": {},
   "source": [
    "### RNN 테스트"
   ]
  },
  {
   "cell_type": "code",
   "execution_count": 29,
   "id": "b52bcbf8",
   "metadata": {},
   "outputs": [],
   "source": [
    "def simple_rnn_model(X_train, y_train, X_test):\n",
    "    \"\"\"\n",
    "    create single layer rnn model trained on X_train and y_train \n",
    "    and make predictions on the X_test data \n",
    "    \"\"\"\n",
    "    # create a model \n",
    "    from tensorflow.keras.models import Sequential \n",
    "    from tensorflow.keras.layers import Dense, SimpleRNN \n",
    "    \n",
    "    my_rnn_model = Sequential()\n",
    "    my_rnn_model.add(SimpleRNN(32, return_sequences = True))\n",
    "    my_rnn_model.add(SimpleRNN(32, return_sequences=True))\n",
    "    my_rnn_model.add(SimpleRNN(32, return_sequences=True))\n",
    "    my_rnn_model.add(SimpleRNN(32))\n",
    "    my_rnn_model.add(Dense(5)) # The time step of the output \n",
    "    \n",
    "    my_rnn_model.compile(optimizer = 'rmsprop', loss = 'mean_squared_error')\n",
    "    \n",
    "    # fit the RNN model \n",
    "    my_rnn_model.fit(X_train,y_train, epochs = 150, batch_size = 320, verbose = 0) \n",
    "    \n",
    "    # Finalizing predictions \n",
    "    rnn_predictions = my_rnn_model.predict(X_test)\n",
    "    \n",
    "    return my_rnn_model, rnn_predictions\n",
    "\n",
    "my_rnn_model, rnn_predictions = simple_rnn_model(X_train, y_train, X_test)"
   ]
  },
  {
   "cell_type": "code",
   "execution_count": 30,
   "id": "2eebc524",
   "metadata": {},
   "outputs": [
    {
     "name": "stdout",
     "output_type": "stream",
     "text": [
      "[[76763.9  82799.51 71351.9  76373.57 80680.79]]\n"
     ]
    }
   ],
   "source": [
    "print(sc2.inverse_transform(rnn_predictions))"
   ]
  },
  {
   "cell_type": "code",
   "execution_count": 31,
   "id": "aa92b88f",
   "metadata": {},
   "outputs": [
    {
     "data": {
      "text/plain": [
       "[<matplotlib.lines.Line2D at 0x7feea8ae7b70>]"
      ]
     },
     "execution_count": 31,
     "metadata": {},
     "output_type": "execute_result"
    },
    {
     "data": {
      "image/png": "[encoded data removed]",
      "text/plain": [
       "<Figure size 432x288 with 2 Axes>"
      ]
     },
     "metadata": {
      "needs_background": "light"
     },
     "output_type": "display_data"
    }
   ],
   "source": [
    "plt.subplot(1,2,1)\n",
    "plt.plot(sc2.inverse_transform(y_public.reshape(-1,1)))\n",
    "plt.subplot(1,2,2)\n",
    "plt.plot(sc2.inverse_transform(rnn_predictions[0].reshape(-1,1)))"
   ]
  },
  {
   "cell_type": "markdown",
   "id": "5c7cd9a1",
   "metadata": {},
   "source": [
    "### LSTM 테스트"
   ]
  },
  {
   "cell_type": "code",
   "execution_count": 32,
   "id": "3ba70ed6",
   "metadata": {},
   "outputs": [],
   "source": [
    "def LSTM_model(X_train, y_train, X_test):\n",
    "    # create a model\n",
    "    from tensorflow.keras.models import Sequential\n",
    "    from tensorflow.keras.layers import Dense, SimpleRNN, GRU, LSTM\n",
    "    from tensorflow.keras.optimizers import SGD\n",
    "    \n",
    "    # The LSTM architecture\n",
    "    my_LSTM_model = Sequential()\n",
    "    my_LSTM_model.add(LSTM(units = 50, \n",
    "                           return_sequences = True, \n",
    "                           input_shape = (X_train.shape[1],2), \n",
    "                           activation = 'tanh'))\n",
    "    my_LSTM_model.add(LSTM(units = 50, activation = 'tanh'))\n",
    "    my_LSTM_model.add(Dense(units=5))\n",
    "    \n",
    "    # Compiling \n",
    "    my_LSTM_model.compile(optimizer = SGD(lr = 0.001, decay = 1e-7, \n",
    "                                         momentum = 0.9, nesterov = False),\n",
    "                         loss = 'mean_squared_error')\n",
    "    \n",
    "    # Fitting to the training set \n",
    "    my_LSTM_model.fit(X_train, y_train, epochs = 80, batch_size = 150, verbose = 0)\n",
    "    \n",
    "    LSTM_prediction = my_LSTM_model.predict(X_test)\n",
    "    #LSTM_prediction = sc.inverse_transform(LSTM_prediction)\n",
    "    \n",
    "    return my_LSTM_model, LSTM_prediction \n",
    "\n",
    "my_LSTM_model, LSTM_prediction = LSTM_model(X_train, y_train, X_test)"
   ]
  },
  {
   "cell_type": "code",
   "execution_count": 33,
   "id": "7e66729e",
   "metadata": {
    "scrolled": true
   },
   "outputs": [
    {
     "name": "stdout",
     "output_type": "stream",
     "text": [
      "[[75243.33 75167.4  75124.84 76058.86 75324.74]]\n"
     ]
    }
   ],
   "source": [
    "print(sc2.inverse_transform(LSTM_prediction))"
   ]
  },
  {
   "cell_type": "code",
   "execution_count": 34,
   "id": "c15ddc55",
   "metadata": {},
   "outputs": [
    {
     "data": {
      "text/plain": [
       "[<matplotlib.lines.Line2D at 0x7feea791e4a8>]"
      ]
     },
     "execution_count": 34,
     "metadata": {},
     "output_type": "execute_result"
    },
    {
     "data": {
      "image/png": "[encoded data removed]",
      "text/plain": [
       "<Figure size 432x288 with 2 Axes>"
      ]
     },
     "metadata": {
      "needs_background": "light"
     },
     "output_type": "display_data"
    }
   ],
   "source": [
    "plt.subplot(1,2,1)\n",
    "plt.plot(sc2.inverse_transform(y_public.reshape(-1,1)))\n",
    "plt.subplot(1,2,2)\n",
    "plt.plot(sc2.inverse_transform(LSTM_prediction[0].reshape(-1,1)))"
   ]
  },
  {
   "cell_type": "markdown",
   "id": "d71ede3e",
   "metadata": {},
   "source": [
    "## 전체 모델링"
   ]
  },
  {
   "cell_type": "code",
   "execution_count": 35,
   "id": "e17329ed",
   "metadata": {},
   "outputs": [],
   "source": [
    "sample_name = 'dongkeun_ICT/stock_final/sample_submission_week3.csv'\n",
    "sample_submission = pd.read_csv(sample_name)"
   ]
  },
  {
   "cell_type": "code",
   "execution_count": null,
   "id": "4b2b6518",
   "metadata": {
    "scrolled": true
   },
   "outputs": [
    {
     "name": "stderr",
     "output_type": "stream",
     "text": [
      " 48%|████▊     | 182/376 [22:33<41:12, 12.74s/it]  "
     ]
    }
   ],
   "source": [
    "# model = Ridge(alpha=0.1)\n",
    "for code in tqdm(stock_list['종목코드'].values):\n",
    "    \n",
    "    # data load\n",
    "    data = fdr.DataReader(code, start = start_date, end = end_date).reset_index()\n",
    "    \n",
    "    # scaling\n",
    "    from sklearn.preprocessing import MinMaxScaler\n",
    "    scaler = MinMaxScaler()\n",
    "    scale_cols = ['Open','High','Low','Close','Volume','Change']\n",
    "    sc = scaler.fit(data[scale_cols])\n",
    "    df_scaled = sc.transform(data[scale_cols])\n",
    "    df_scaled = pd.DataFrame(df_scaled)\n",
    "    df_scaled.columns = scale_cols\n",
    "    \n",
    "    scaler2 = MinMaxScaler()\n",
    "    scale_cols2 = ['Close']\n",
    "    sc2 = scaler2.fit(data[scale_cols2])\n",
    "    df_scaled_2 = sc2.transform(data[scale_cols2])\n",
    "    df_scaled_2 = pd.DataFrame(df_scaled_2)\n",
    "    df_scaled_2.columns = scale_cols2\n",
    "    \n",
    "    df_scaled['Date']=data['Date']\n",
    "    df_scaled['Close'] = df_scaled_2['Close']\n",
    "    \n",
    "    # make pivot table\n",
    "    data = pd.merge(Business_days, df_scaled, how = 'outer')\n",
    "    data['weekday'] = data.Date.apply(lambda x : x.weekday())\n",
    "    data['weeknum'] = data.Date.apply(lambda x : x.strftime('%V'))\n",
    "    data.Close = data.Close.ffill()\n",
    "    data = pd.pivot_table(data = data, values = ['Close','High'], columns = 'weekday', index = 'weeknum')\n",
    "    \n",
    "    # nan value check\n",
    "    if data.isna().sum().sum()>0:\n",
    "        for i in range(5):\n",
    "            data[:]['High'][i].fillna(data[:]['High'][i].median(),inplace=True) # inplace=True로 결측치 치환 반영\n",
    "            #data[:]['Low'][i].fillna(data[:]['Low'][i].median(),inplace=True)\n",
    "            data[:]['Close'][i].fillna(data[:]['Close'][i],inplace=True)\n",
    "            #data[:]['Open'][i].fillna(data[:]['Open'][i],inplace=True)\n",
    "              \n",
    "    x = data.iloc[0:-2].to_numpy() # 2021년 1월 04일 ~ 2021년 8월 13일까지의 데이터로\n",
    "    y = data.iloc[1:-1]['Close'].to_numpy() # 2021년 1월 11일 ~ 2021년 8월 20일까지의 데이터를 학습한다.\n",
    "    y_0 = y[:,0]\n",
    "    y_1 = y[:,1]\n",
    "    y_2 = y[:,2]\n",
    "    y_3 = y[:,3]\n",
    "    y_4 = y[:,4]\n",
    "\n",
    "    y_values = [y_0, y_1, y_2, y_3, y_4]\n",
    "    #x_public = data.iloc[-2].to_numpy() # 2021년 8월 23일부터 8월 27일까지의 데이터를 예측할 것이다.\n",
    "    \n",
    "#     predictions = []\n",
    "#     for y_value in y_values :\n",
    "#         model.fit(x,y_value)\n",
    "#         prediction = model.predict(np.expand_dims(x_public,0))\n",
    "#         prediction = sc2.inverse_transform(prediction.reshape(-1,1))\n",
    "#         predictions.append(prediction[0])\n",
    "    \n",
    "    # train LSTM\n",
    "    X_train = x.reshape(x.shape[0],5,2)\n",
    "    X_train.shape\n",
    "    \n",
    "    y_train = np.array(y_values)\n",
    "    y_train = y_train.reshape(y_train.shape[1],y_train.shape[0])\n",
    "    \n",
    "    X_test = test2.iloc[-2].to_numpy()\n",
    "    X_test = X_test.reshape(1,5,2)\n",
    "    \n",
    "    my_LSTM_model, LSTM_prediction = LSTM_model(X_train, y_train, X_test)\n",
    "    LSTM_prediction = sc2.inverse_transform(LSTM_prediction[0].reshape(-1,1))\n",
    "    #print(LSTM_prediction.reshape(1,-1))\n",
    "    predictions = []\n",
    "    for data in LSTM_prediction:\n",
    "        predictions.append(data)\n",
    "#     print(predictions)\n",
    "#     print(type(predictions[0]))\n",
    "    \n",
    "    sample_submission.loc[:,code] = predictions * 2\n",
    "sample_submission.isna().sum().sum()"
   ]
  },
  {
   "cell_type": "code",
   "execution_count": null,
   "id": "4e74305c",
   "metadata": {},
   "outputs": [],
   "source": [
    "# MSE = Mean Square Error\n",
    "# 오차 = 실제값 - 예측값에서\n",
    "# 오차를 제곱하여 합한 것! square error\n",
    "# 이 것을 데이터 개수로 나눈 것이 mean sqaure error\n",
    "\n",
    "# 이 것을 주로 회귀분석에서 cost function으로 사용한다."
   ]
  },
  {
   "cell_type": "code",
   "execution_count": null,
   "id": "8023e667",
   "metadata": {},
   "outputs": [],
   "source": [
    "sample_submission.columns"
   ]
  },
  {
   "cell_type": "code",
   "execution_count": null,
   "id": "2235978b",
   "metadata": {},
   "outputs": [],
   "source": [
    "columns = list(sample_submission.columns[1:])"
   ]
  },
  {
   "cell_type": "code",
   "execution_count": null,
   "id": "5c36a1b8",
   "metadata": {},
   "outputs": [],
   "source": [
    "columns = ['Day'] + [str(x).zfill(6) for x in columns]"
   ]
  },
  {
   "cell_type": "code",
   "execution_count": null,
   "id": "7a5ba6df",
   "metadata": {},
   "outputs": [],
   "source": [
    "sample_submission.columns = columns"
   ]
  },
  {
   "cell_type": "code",
   "execution_count": null,
   "id": "69dccad1",
   "metadata": {},
   "outputs": [],
   "source": [
    "sample_submission.to_csv('BASELINE_Linear_Week3.csv',index=False)"
   ]
  },
  {
   "cell_type": "code",
   "execution_count": null,
   "id": "0251ce2f",
   "metadata": {},
   "outputs": [],
   "source": [
    "sample_submission"
   ]
  }
 ],
 "metadata": {
  "kernelspec": {
   "display_name": "Python 3",
   "language": "python",
   "name": "python3"
  },
  "language_info": {
   "codemirror_mode": {
    "name": "ipython",
    "version": 3
   },
   "file_extension": ".py",
   "mimetype": "text/x-python",
   "name": "python",
   "nbconvert_exporter": "python",
   "pygments_lexer": "ipython3",
   "version": "3.6.13"
  }
 },
 "nbformat": 4,
 "nbformat_minor": 5
}
